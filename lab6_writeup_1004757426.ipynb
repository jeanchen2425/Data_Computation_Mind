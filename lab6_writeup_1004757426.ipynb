{
 "cells": [
  {
   "cell_type": "markdown",
   "metadata": {},
   "source": [
    "## Lab 6 - Frequency"
   ]
  },
  {
   "cell_type": "markdown",
   "metadata": {},
   "source": [
    "This lab must be done **individually**. The required packages have been imported for you below."
   ]
  },
  {
   "cell_type": "code",
   "execution_count": 75,
   "metadata": {},
   "outputs": [],
   "source": [
    "import string\n",
    "import numpy as np\n",
    "from scipy.stats import pearsonr \n",
    "import matplotlib.pyplot as plt"
   ]
  },
  {
   "cell_type": "markdown",
   "metadata": {},
   "source": [
    "Load text file. Data from Project Gutenberg (https://www.gutenberg.org/)."
   ]
  },
  {
   "cell_type": "code",
   "execution_count": 76,
   "metadata": {},
   "outputs": [],
   "source": [
    "txt = open(\"ulysses.txt\",\"r\")"
   ]
  },
  {
   "cell_type": "markdown",
   "metadata": {},
   "source": [
    "Remove punctuations in text."
   ]
  },
  {
   "cell_type": "code",
   "execution_count": 77,
   "metadata": {},
   "outputs": [],
   "source": [
    "remove = dict.fromkeys(map(ord, string.punctuation))"
   ]
  },
  {
   "cell_type": "markdown",
   "metadata": {},
   "source": [
    "Collapse tokens to lower case."
   ]
  },
  {
   "cell_type": "code",
   "execution_count": 78,
   "metadata": {},
   "outputs": [],
   "source": [
    "txt = txt.read().translate(remove).lower()"
   ]
  },
  {
   "cell_type": "markdown",
   "metadata": {},
   "source": [
    "Construct a dictionary where `key` = word, `value` = count (or frequency)."
   ]
  },
  {
   "cell_type": "code",
   "execution_count": 79,
   "metadata": {},
   "outputs": [],
   "source": [
    "wordfreq = {}\n",
    "for word in txt.split():\n",
    "    if word not in wordfreq:\n",
    "        wordfreq[word] = 1\n",
    "    else:\n",
    "        wordfreq[word] += 1"
   ]
  },
  {
   "cell_type": "markdown",
   "metadata": {},
   "source": [
    "**Hint**: Print `wordfreq` to see what this dictionary contains.\n",
    "\n",
    "To work with keys and values in dictionaries, you may refer to https://docs.python.org/2/tutorial/datastructures.html.\n",
    "Alternatively, refer to the Python tutorial posted on course syllabus.\n",
    "\n",
    "In this lab, you will reconstruct the classic work by Zipf (1949) on the properties of word frequency---read Zipf's chapter posted. Following these instructions and enjoy this final lab of the course!"
   ]
  },
  {
   "cell_type": "code",
   "execution_count": 80,
   "metadata": {},
   "outputs": [],
   "source": [
    "# print(wordfreq)"
   ]
  },
  {
   "cell_type": "markdown",
   "metadata": {},
   "source": [
    "### Task 1 [2 pts]\n",
    "\n",
    "**Hint**: For how to `sort` and use `list` comprehension in Python, see the Python tutorial posted on course syllabus."
   ]
  },
  {
   "cell_type": "markdown",
   "metadata": {},
   "source": [
    "**Task 1a**: Construct an array of sorted word frequency of all words, and a separate array of word lengths."
   ]
  },
  {
   "cell_type": "code",
   "execution_count": 81,
   "metadata": {},
   "outputs": [
    {
     "name": "stdout",
     "output_type": "stream",
     "text": [
      "Array of sorted words:  ['the', 'of', 'and', 'a', 'to', 'in', 'he', 'his', 'that', 'with']\n",
      "Array of sorted word frequency:  [15010, 8250, 7216, 6512, 5031, 4974, 3998, 3327, 2586, 2557]\n",
      "Array of sorted word lengths:  [3, 2, 3, 1, 2, 2, 2, 3, 4, 4]\n"
     ]
    }
   ],
   "source": [
    "# Note: this code chunk will produce the first 10 items of the desired arrays, so the output pdf would look nicer.\n",
    "\n",
    "# convert dictionary into an array\n",
    "wordfreq_array = [[key, value] for key, value in wordfreq.items()]\n",
    "\n",
    "# create sorted words(mot frequent to leas frequent)\n",
    "sorted_wordfreq = [[key, val] for key, val in sorted(wordfreq_array, key = lambda x: x[1], reverse = True)]\n",
    "sorted_wordfreq_words = [key for key, val in sorted_wordfreq]\n",
    "print(\"Array of sorted words: \", sorted_wordfreq_words[:10])\n",
    "\n",
    "# create sorted word frequency of all words \n",
    "sorted_wordfreq_frequency = [val for key, val in sorted_wordfreq]\n",
    "print(\"Array of sorted word frequency: \", sorted_wordfreq_frequency[:10])\n",
    "\n",
    "# create sorted word lengths of all words\n",
    "sorted_wordfreq_length = [len(word) for word, freq in sorted_wordfreq]\n",
    "print(\"Array of sorted word lengths: \", sorted_wordfreq_length[:10])"
   ]
  },
  {
   "cell_type": "markdown",
   "metadata": {},
   "source": [
    "**Task 1b**: Construct an array of ranks from on the sorted frequency array in **Task 1a** (using ordinal rank)."
   ]
  },
  {
   "cell_type": "code",
   "execution_count": 82,
   "metadata": {},
   "outputs": [
    {
     "name": "stdout",
     "output_type": "stream",
     "text": [
      "Array of ranks from the sorted frequency array:  [1, 2, 3, 4, 5, 6, 7, 8, 9, 10]\n"
     ]
    }
   ],
   "source": [
    "# Note: this code chunk will produce the first 10 items of the desired arrays, so the output pdf would look nicer.\n",
    "\n",
    "rank_array = [i for i in range(1, len(sorted_wordfreq) + 1)]\n",
    "print(\"Array of ranks from the sorted frequency array: \", rank_array[:10])"
   ]
  },
  {
   "cell_type": "markdown",
   "metadata": {},
   "source": [
    "**Task 1c**: Print the most frequent 20 words and their frequencies. **[1pt]**"
   ]
  },
  {
   "cell_type": "code",
   "execution_count": 83,
   "metadata": {},
   "outputs": [
    {
     "name": "stdout",
     "output_type": "stream",
     "text": [
      "The most frequent 20 words and their frequencies:  [['the', 15010], ['of', 8250], ['and', 7216], ['a', 6512], ['to', 5031], ['in', 4974], ['he', 3998], ['his', 3327], ['that', 2586], ['with', 2557], ['i', 2553], ['it', 2351], ['was', 2126], ['on', 2119], ['for', 1950], ['you', 1914], ['her', 1783], ['him', 1522], ['is', 1435], ['all', 1329]]\n",
      "-------------------------\n",
      "The most frequent 20 words:  ['the', 'of', 'and', 'a', 'to', 'in', 'he', 'his', 'that', 'with', 'i', 'it', 'was', 'on', 'for', 'you', 'her', 'him', 'is', 'all']\n",
      " \n",
      "And their respected frequencies:  [15010, 8250, 7216, 6512, 5031, 4974, 3998, 3327, 2586, 2557, 2553, 2351, 2126, 2119, 1950, 1914, 1783, 1522, 1435, 1329]\n"
     ]
    }
   ],
   "source": [
    "# we can directly printed from the sorted array (that was converted from dictionary)\n",
    "print(\"The most frequent 20 words and their frequencies: \", sorted_wordfreq[:20])\n",
    "\n",
    "print(\"-------------------------\") # to make pdf output presentation nicer\n",
    "\n",
    "# we can also print them separately\n",
    "print(\"The most frequent 20 words: \", sorted_wordfreq_words[:20])\n",
    "print(\" \")\n",
    "print(\"And their respected frequencies: \", sorted_wordfreq_frequency[:20])"
   ]
  },
  {
   "cell_type": "markdown",
   "metadata": {},
   "source": [
    "### Task 2 [3 pts]"
   ]
  },
  {
   "cell_type": "markdown",
   "metadata": {
    "collapsed": true
   },
   "source": [
    "Produce a 2-by-2 set of subplots using `subplot`: https://matplotlib.org/api/_as_gen/matplotlib.pyplot.subplot.html\n",
    "\n",
    "**Task 2a**: Scatter plot word frequency (y-axis) against rank (x-axis). **[.5pt]**\n",
    "\n",
    "**Task 2b**: Scatter plot $log(freq)$ against $log(rank)$. **[.5pt]**\n",
    "\n",
    "**Task 2c**: Calculate and report the slope from **Task 2b** (via linear regression), i.e. slope of $log(freq)$ vs $log(rank)$. **[.5pt]**\n",
    "\n",
    "**Task 2d**: Scatter plot frequency against word length. **[.5pt]**\n",
    "\n",
    "**Task 2e**: Scatter plot $log(freq)$ against word length. **[.5pt]**\n",
    "\n",
    "For a clearer presentation of the individual plots, please see Appendix"
   ]
  },
  {
   "cell_type": "code",
   "execution_count": 84,
   "metadata": {},
   "outputs": [
    {
     "name": "stdout",
     "output_type": "stream",
     "text": [
      "The slope of log(freq) v.s. log(rank):  -1.0332621845538876\n"
     ]
    },
    {
     "data": {
      "text/plain": [
       "Text(0, 0.5, 'log(freq)')"
      ]
     },
     "execution_count": 84,
     "metadata": {},
     "output_type": "execute_result"
    },
    {
     "data": {
      "image/png": "[encoded data removed]",
      "text/plain": [
       "<Figure size 432x288 with 4 Axes>"
      ]
     },
     "metadata": {
      "needs_background": "light"
     },
     "output_type": "display_data"
    }
   ],
   "source": [
    "# Task 2a\n",
    "plt.subplot(2,2,1)\n",
    "plt.scatter(rank_array, sorted_wordfreq_frequency, marker = \".\")\n",
    "plt.title(\"2a Word Frequency v.s. Rank\")\n",
    "plt.xlabel(\"Rank\")\n",
    "plt.ylabel(\"Frequency\")\n",
    "\n",
    "\n",
    "# Task 2b\n",
    "log_freq = np.log10(sorted_wordfreq_frequency)\n",
    "log_rank = np.log10(rank_array)\n",
    "plt.subplot(2,2,2)\n",
    "plt.scatter(log_rank, log_freq, marker = \".\")\n",
    "plt.title(\"2b log(freq) v.s. log(rank)\")\n",
    "plt.xlabel(\"log(rank)\")\n",
    "plt.ylabel(\"log(freq)\")\n",
    "\n",
    "\n",
    "# Task 2c\n",
    "[slope, y_int] = np.polyfit(log_rank, log_freq, 1)\n",
    "print(\"The slope of log(freq) v.s. log(rank): \", slope)\n",
    "\n",
    "\n",
    "# Task 2d\n",
    "plt.subplot(2,2,3)\n",
    "plt.scatter(sorted_wordfreq_length, sorted_wordfreq_frequency, marker = \".\")\n",
    "plt.title(\"2d Frequency against word length\")\n",
    "plt.xlabel(\"Word Length\")\n",
    "plt.ylabel(\"Frequency\")\n",
    "\n",
    "\n",
    "# Task 2e Scatter plot log(freq) against word length.\n",
    "plt.subplot(2,2,4)\n",
    "plt.scatter(sorted_wordfreq_length, log_freq)\n",
    "plt.title(\"2e log(freq) against word length\")\n",
    "plt.xlabel(\"Word Length\")\n",
    "plt.ylabel(\"log(freq)\")\n"
   ]
  },
  {
   "cell_type": "markdown",
   "metadata": {},
   "source": [
    "### Task 3 [1 pt]\n",
    "\n",
    "Calculate and report the Pearson correlation between $log(freq)$ and word length. **[.5pt]**\n",
    "\n",
    "**Hint**: You may use `scipy.stats.pearsonr`; the first output is Pearson correlation."
   ]
  },
  {
   "cell_type": "code",
   "execution_count": 85,
   "metadata": {},
   "outputs": [
    {
     "name": "stdout",
     "output_type": "stream",
     "text": [
      "Pearson correlation between log(freq) and word length is:  -0.311193889517738\n"
     ]
    }
   ],
   "source": [
    "outputs = pearsonr(log_freq, sorted_wordfreq_length)\n",
    "p_correlation = outputs[0]\n",
    "print(\"Pearson correlation between log(freq) and word length is: \", p_correlation)\n"
   ]
  },
  {
   "cell_type": "markdown",
   "metadata": {},
   "source": [
    "Negative pearon correlation indicates a negative linear relationship: as the values in x axis increases, y decreases. In this case: as word length increases, log(frequency) decreases. "
   ]
  },
  {
   "cell_type": "markdown",
   "metadata": {},
   "source": [
    "### Task 4 [5 pts]"
   ]
  },
  {
   "cell_type": "markdown",
   "metadata": {},
   "source": [
    "**Task 4a**: Calculate and report the expected word length of English words based on the given data. **[1pt]**\n",
    "\n",
    "$E[len] = \\sum^{i} len(i) * prob(i)$, where $prob(i)$ = normalized frequency of word $i$ (over all available words)."
   ]
  },
  {
   "cell_type": "code",
   "execution_count": 86,
   "metadata": {},
   "outputs": [
    {
     "name": "stdout",
     "output_type": "stream",
     "text": [
      "Expected Wrod Length Given Data:  4.48533473677924\n"
     ]
    }
   ],
   "source": [
    "def expected_word_length(word_list, frequency_list):\n",
    "    total_number_word = np.sum(frequency_list)\n",
    "    x_p_x = [(len(word) * (freq/total_number_word)) for word, freq in zip(word_list, frequency_list)]\n",
    "    expected_word_length_sum = np.sum(x_p_x)\n",
    "    return expected_word_length_sum\n",
    "data_expected_word_length = expected_word_length(sorted_wordfreq_words, sorted_wordfreq_frequency)\n",
    "print(\"Expected Wrod Length Given Data: \", data_expected_word_length)"
   ]
  },
  {
   "cell_type": "markdown",
   "metadata": {},
   "source": [
    "**Task 4b**: Perform a shuffled (permutation) test with 1000 shuffled trials. **[1pt]**"
   ]
  },
  {
   "cell_type": "code",
   "execution_count": 92,
   "metadata": {},
   "outputs": [
    {
     "name": "stdout",
     "output_type": "stream",
     "text": [
      "The first 20 expected word length of the permutation trials are:  [7.3934948789154635, 7.284634506852996, 7.551878975185882, 7.722670130490609, 7.588861267879006, 7.330649616291917, 7.662262235360865, 7.703376481829855, 7.550949565528979, 7.66005628713906, 7.67305309206008, 7.268479948639852, 7.638407387500373, 7.637888560422826, 7.596214428618353, 7.289169578070411, 7.374246021081549, 7.291420317119055, 7.306671593657619, 7.778199558063843]\n",
      "The Average Expected word length from the permutation trials:  7.471328641494221\n"
     ]
    }
   ],
   "source": [
    "number_of_trial = 1000\n",
    "\n",
    "shuffled_trails_length = []\n",
    "\n",
    "# randomized_word = np.copy(sorted_wordfreq_words)\n",
    "randomized_frequency = np.copy(sorted_wordfreq_frequency)\n",
    "shuffled_trails_frequency = []\n",
    "\n",
    "for i in range(0, number_of_trial):\n",
    "    # np.random.shuffle(randomized_word)\n",
    "    np.random.shuffle(randomized_frequency)\n",
    "    shuffled_trails_frequency.append(randomized_frequency)\n",
    "    length = expected_word_length(sorted_wordfreq_words, randomized_frequency)\n",
    "    shuffled_trails_length.append(length)\n",
    "\n",
    "average_expected_word_length = np.mean(shuffled_trails_length)\n",
    "\n",
    "print(\"The first 20 expected word length of the permutation trials are: \", shuffled_trails_length[:20])\n",
    "print(\"The Average Expected word length from the permutation trials: \", average_expected_word_length)"
   ]
  },
  {
   "cell_type": "markdown",
   "metadata": {},
   "source": [
    "**Task 4c**: Based on the shuffled trials, histogram the expected word lengths from the shuffled data. **[.5pt]**"
   ]
  },
  {
   "cell_type": "code",
   "execution_count": 88,
   "metadata": {},
   "outputs": [
    {
     "data": {
      "image/png": "[encoded data removed]",
      "text/plain": [
       "<Figure size 432x288 with 1 Axes>"
      ]
     },
     "metadata": {
      "needs_background": "light"
     },
     "output_type": "display_data"
    }
   ],
   "source": [
    "plt.hist(shuffled_trails_length, bins = 20)\n",
    "plt.title(\"Expected Word Lengths from Shuffled Trials\")\n",
    "plt.xlabel(\"Expected Word Length\")\n",
    "plt.ylabel(\"Count\")\n",
    "plt.show()"
   ]
  },
  {
   "cell_type": "markdown",
   "metadata": {},
   "source": [
    "**Task 4d**: Calculate and report the _p-value_ from the shuffled test. \n",
    "\n",
    "The null hypothesis is that the expected word length is no different from the expected length from shuffled data. \n",
    "Based on the _p-value_ you have obtained, conclude whether the null should be rejected $(p<0.05)$. **[.5pt]**"
   ]
  },
  {
   "cell_type": "code",
   "execution_count": 93,
   "metadata": {},
   "outputs": [
    {
     "name": "stdout",
     "output_type": "stream",
     "text": [
      "p-value:  0.0\n"
     ]
    }
   ],
   "source": [
    "num_item_smaller_than_dob = np.array(np.where(shuffled_trails_length <= data_expected_word_length)).size\n",
    "p_value = num_item_smaller_than_dob / number_of_trial\n",
    "\n",
    "\n",
    "print(\"p-value: \", p_value)"
   ]
  },
  {
   "cell_type": "markdown",
   "metadata": {},
   "source": [
    "Since p value is smaller than 0.05, we reject the null hypothesis. We can say that there is a difference from the expcted lenth from shuffled data. "
   ]
  },
  {
   "cell_type": "markdown",
   "metadata": {},
   "source": [
    "### Task 5"
   ]
  },
  {
   "cell_type": "markdown",
   "metadata": {},
   "source": [
    "Propose an alternative way of mapping words to frequencies and show that it produces a lower expected length than the empirical value you calculated, justify your proposal, and print the top 20 most frequent words under this proposal. **[3pts]**"
   ]
  },
  {
   "cell_type": "markdown",
   "metadata": {},
   "source": [
    "By mapping the highest frequency with the shortest words will produces the lowest expected word length. If we analyze the formula: $E[len] = \\sum^{i} len(i) * prob(i)$, we can see that $prob(i)$ will be larger if the frequency is high. In other words, the short lengths will be weighted more by the high frequency. "
   ]
  },
  {
   "cell_type": "code",
   "execution_count": 94,
   "metadata": {},
   "outputs": [
    {
     "name": "stdout",
     "output_type": "stream",
     "text": [
      "The expected word length after alternative mappping:  2.8965705156917196\n"
     ]
    }
   ],
   "source": [
    "word_list = np.copy(sorted_wordfreq_words)\n",
    "freq_list = np.copy(sorted_wordfreq_frequency)\n",
    "\n",
    "word_list_sort = sorted(word_list, key = lambda x: len(x)) # short length to long length\n",
    "freq_list_sort = sorted(freq_list, key = lambda x: x, reverse = True) # high frequency to low\n",
    "\n",
    "expected_word_length = expected_word_length(word_list_sort, freq_list_sort)\n",
    "print(\"The expected word length after alternative mappping: \", expected_word_length)\n"
   ]
  },
  {
   "cell_type": "markdown",
   "metadata": {},
   "source": [
    "Export and submit a **fully executable** Python Jupyter Notebook and a PDF copy of your notebook showing all results. "
   ]
  },
  {
   "cell_type": "markdown",
   "metadata": {
    "collapsed": true
   },
   "source": [
    "### Appendix \n",
    "\n",
    "Individual plots from Task 2"
   ]
  },
  {
   "cell_type": "code",
   "execution_count": 95,
   "metadata": {},
   "outputs": [
    {
     "data": {
      "image/png": "[encoded data removed]",
      "text/plain": [
       "<Figure size 432x288 with 1 Axes>"
      ]
     },
     "metadata": {
      "needs_background": "light"
     },
     "output_type": "display_data"
    }
   ],
   "source": [
    "# Task 2a\n",
    "plt.scatter(rank_array, sorted_wordfreq_frequency, marker = \".\")\n",
    "plt.title(\"2a Word Frequency v.s. Rank\")\n",
    "plt.xlabel(\"Rank\")\n",
    "plt.ylabel(\"Frequency\")\n",
    "plt.show()"
   ]
  },
  {
   "cell_type": "code",
   "execution_count": 96,
   "metadata": {},
   "outputs": [
    {
     "data": {
      "image/png": "[encoded data removed]",
      "text/plain": [
       "<Figure size 432x288 with 1 Axes>"
      ]
     },
     "metadata": {
      "needs_background": "light"
     },
     "output_type": "display_data"
    }
   ],
   "source": [
    "# Task 2b\n",
    "log_freq = np.log10(sorted_wordfreq_frequency)\n",
    "log_rank = np.log10(rank_array)\n",
    "\n",
    "plt.scatter(log_rank, log_freq, marker = \".\")\n",
    "plt.title(\"2b log(freq) v.s. log(rank)\")\n",
    "plt.xlabel(\"log(rank)\")\n",
    "plt.ylabel(\"log(freq)\")\n",
    "plt.show()\n"
   ]
  },
  {
   "cell_type": "code",
   "execution_count": 97,
   "metadata": {},
   "outputs": [
    {
     "data": {
      "image/png": "[encoded data removed]",
      "text/plain": [
       "<Figure size 432x288 with 1 Axes>"
      ]
     },
     "metadata": {
      "needs_background": "light"
     },
     "output_type": "display_data"
    }
   ],
   "source": [
    "# Task 2d\n",
    "\n",
    "plt.scatter(sorted_wordfreq_length, sorted_wordfreq_frequency, marker = \".\")\n",
    "plt.title(\"2d Frequency against word length\")\n",
    "plt.xlabel(\"Word Length\")\n",
    "plt.ylabel(\"Frequency\")\n",
    "plt.show()"
   ]
  },
  {
   "cell_type": "code",
   "execution_count": 98,
   "metadata": {},
   "outputs": [
    {
     "data": {
      "image/png": "[encoded data removed]",
      "text/plain": [
       "<Figure size 432x288 with 1 Axes>"
      ]
     },
     "metadata": {
      "needs_background": "light"
     },
     "output_type": "display_data"
    }
   ],
   "source": [
    "\n",
    "# Task 2e Scatter plot log(freq) against word length.\n",
    "\n",
    "plt.scatter(sorted_wordfreq_length, log_freq)\n",
    "plt.title(\"2e log(freq) against word length\")\n",
    "plt.xlabel(\"Word Length\")\n",
    "plt.ylabel(\"log(freq)\")\n",
    "plt.show()"
   ]
  },
  {
   "cell_type": "code",
   "execution_count": null,
   "metadata": {},
   "outputs": [],
   "source": []
  }
 ],
 "metadata": {
  "anaconda-cloud": {},
  "kernelspec": {
   "display_name": "Python 3",
   "language": "python",
   "name": "python3"
  },
  "language_info": {
   "codemirror_mode": {
    "name": "ipython",
    "version": 3
   },
   "file_extension": ".py",
   "mimetype": "text/x-python",
   "name": "python",
   "nbconvert_exporter": "python",
   "pygments_lexer": "ipython3",
   "version": "3.8.3"
  }
 },
 "nbformat": 4,
 "nbformat_minor": 1
}
