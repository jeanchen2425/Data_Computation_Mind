{
 "cells": [
  {
   "cell_type": "markdown",
   "metadata": {},
   "source": [
    "## Lab 2 - Number estimation (Weber fraction)"
   ]
  },
  {
   "cell_type": "markdown",
   "metadata": {},
   "source": [
    "This lab must be done **individually**. The required packages have been imported for you below."
   ]
  },
  {
   "cell_type": "code",
   "execution_count": 22,
   "metadata": {},
   "outputs": [],
   "source": [
    "import matplotlib.pyplot as plt\n",
    "import numpy as np\n",
    "import pandas as pd"
   ]
  },
  {
   "cell_type": "markdown",
   "metadata": {},
   "source": [
    "The target number (i.e. ground truth) for each experimental trial is provided in the following python array."
   ]
  },
  {
   "cell_type": "code",
   "execution_count": 23,
   "metadata": {},
   "outputs": [],
   "source": [
    "targets = np.array([3, 8, 40, 2, 5, 30, 7, 35, 6, 15, 10, 20, 9, 25, 4]);"
   ]
  },
  {
   "cell_type": "markdown",
   "metadata": {},
   "source": [
    "Read in the experimental data---these are identical to what you've analyzed in Lab 1. `df` is a dataframe of size _(Participants x Trials)_."
   ]
  },
  {
   "cell_type": "code",
   "execution_count": 24,
   "metadata": {},
   "outputs": [],
   "source": [
    "df = pd.read_csv('data-number-estimation.csv')\n"
   ]
  },
  {
   "cell_type": "markdown",
   "metadata": {},
   "source": [
    "Compute the $mean$ and standard deviation ($sd$) for each trial (do not use a `for` loop). **[1pt]**\n",
    "\n",
    "**Hint**: Use `df.mean()` and `df.std()`."
   ]
  },
  {
   "cell_type": "code",
   "execution_count": 25,
   "metadata": {},
   "outputs": [
    {
     "data": {
      "text/plain": [
       "Trial 1      3.000000\n",
       "Trial 2      8.319149\n",
       "Trial 3     28.872340\n",
       "Trial 4      1.978723\n",
       "Trial 5      5.085106\n",
       "Trial 6     27.723404\n",
       "Trial 7      7.234043\n",
       "Trial 8     31.127660\n",
       "Trial 9      6.085106\n",
       "Trial 10    16.425532\n",
       "Trial 11    10.680851\n",
       "Trial 12    21.489362\n",
       "Trial 13     9.744681\n",
       "Trial 14    25.170213\n",
       "Trial 15     4.000000\n",
       "dtype: float64"
      ]
     },
     "execution_count": 25,
     "metadata": {},
     "output_type": "execute_result"
    }
   ],
   "source": [
    "# Write your code here\n",
    "mn = df.mean()\n",
    "mn"
   ]
  },
  {
   "cell_type": "code",
   "execution_count": 26,
   "metadata": {},
   "outputs": [
    {
     "data": {
      "text/plain": [
       "Trial 1     0.000000\n",
       "Trial 2     1.252934\n",
       "Trial 3     8.641701\n",
       "Trial 4     0.145865\n",
       "Trial 5     0.350762\n",
       "Trial 6     8.072234\n",
       "Trial 7     0.757937\n",
       "Trial 8     8.157730\n",
       "Trial 9     0.408059\n",
       "Trial 10    2.668208\n",
       "Trial 11    2.117283\n",
       "Trial 12    4.960156\n",
       "Trial 13    1.938938\n",
       "Trial 14    5.946571\n",
       "Trial 15    0.208514\n",
       "dtype: float64"
      ]
     },
     "execution_count": 26,
     "metadata": {},
     "output_type": "execute_result"
    }
   ],
   "source": [
    "sd = df.std()\n",
    "sd"
   ]
  },
  {
   "cell_type": "markdown",
   "metadata": {},
   "source": [
    "### Figure 1 [2pts]"
   ]
  },
  {
   "cell_type": "markdown",
   "metadata": {},
   "source": [
    "**Task 1.1**: Plot $mean$ responses against target numbers and add a reference line for the ground truth. **Hint**: Use `plt.plot()`.\n",
    "\n",
    "**Task 1.2**: Plot $mean+sd$ and $mean-sd$. **Hint**: Use `np.add()` and `np.subtract()`.\n",
    "\n",
    "**Task 1.3**: Annotate the graph and axes. **Hint**: Use `plt.legend()` and `plt.xlabel()` and `plt.ylabel()`."
   ]
  },
  {
   "cell_type": "code",
   "execution_count": 27,
   "metadata": {},
   "outputs": [
    {
     "data": {
      "text/html": [
       "<div>\n",
       "<style scoped>\n",
       "    .dataframe tbody tr th:only-of-type {\n",
       "        vertical-align: middle;\n",
       "    }\n",
       "\n",
       "    .dataframe tbody tr th {\n",
       "        vertical-align: top;\n",
       "    }\n",
       "\n",
       "    .dataframe thead th {\n",
       "        text-align: right;\n",
       "    }\n",
       "</style>\n",
       "<table border=\"1\" class=\"dataframe\">\n",
       "  <thead>\n",
       "    <tr style=\"text-align: right;\">\n",
       "      <th></th>\n",
       "      <th>Trial 4</th>\n",
       "      <th>Trial 1</th>\n",
       "      <th>Trial 15</th>\n",
       "      <th>Trial 5</th>\n",
       "      <th>Trial 9</th>\n",
       "      <th>Trial 7</th>\n",
       "      <th>Trial 2</th>\n",
       "      <th>Trial 13</th>\n",
       "      <th>Trial 11</th>\n",
       "      <th>Trial 10</th>\n",
       "      <th>Trial 12</th>\n",
       "      <th>Trial 14</th>\n",
       "      <th>Trial 6</th>\n",
       "      <th>Trial 8</th>\n",
       "      <th>Trial 3</th>\n",
       "    </tr>\n",
       "  </thead>\n",
       "  <tbody>\n",
       "    <tr>\n",
       "      <th>Target</th>\n",
       "      <td>2.000000</td>\n",
       "      <td>3.0</td>\n",
       "      <td>4.000000</td>\n",
       "      <td>5.000000</td>\n",
       "      <td>6.000000</td>\n",
       "      <td>7.000000</td>\n",
       "      <td>8.000000</td>\n",
       "      <td>9.000000</td>\n",
       "      <td>10.000000</td>\n",
       "      <td>15.000000</td>\n",
       "      <td>20.000000</td>\n",
       "      <td>25.000000</td>\n",
       "      <td>30.000000</td>\n",
       "      <td>35.00000</td>\n",
       "      <td>40.000000</td>\n",
       "    </tr>\n",
       "    <tr>\n",
       "      <th>mean</th>\n",
       "      <td>1.978723</td>\n",
       "      <td>3.0</td>\n",
       "      <td>4.000000</td>\n",
       "      <td>5.085106</td>\n",
       "      <td>6.085106</td>\n",
       "      <td>7.234043</td>\n",
       "      <td>8.319149</td>\n",
       "      <td>9.744681</td>\n",
       "      <td>10.680851</td>\n",
       "      <td>16.425532</td>\n",
       "      <td>21.489362</td>\n",
       "      <td>25.170213</td>\n",
       "      <td>27.723404</td>\n",
       "      <td>31.12766</td>\n",
       "      <td>28.872340</td>\n",
       "    </tr>\n",
       "    <tr>\n",
       "      <th>sd</th>\n",
       "      <td>0.145865</td>\n",
       "      <td>0.0</td>\n",
       "      <td>0.208514</td>\n",
       "      <td>0.350762</td>\n",
       "      <td>0.408059</td>\n",
       "      <td>0.757937</td>\n",
       "      <td>1.252934</td>\n",
       "      <td>1.938938</td>\n",
       "      <td>2.117283</td>\n",
       "      <td>2.668208</td>\n",
       "      <td>4.960156</td>\n",
       "      <td>5.946571</td>\n",
       "      <td>8.072234</td>\n",
       "      <td>8.15773</td>\n",
       "      <td>8.641701</td>\n",
       "    </tr>\n",
       "  </tbody>\n",
       "</table>\n",
       "</div>"
      ],
      "text/plain": [
       "         Trial 4  Trial 1  Trial 15   Trial 5   Trial 9   Trial 7   Trial 2  \\\n",
       "Target  2.000000      3.0  4.000000  5.000000  6.000000  7.000000  8.000000   \n",
       "mean    1.978723      3.0  4.000000  5.085106  6.085106  7.234043  8.319149   \n",
       "sd      0.145865      0.0  0.208514  0.350762  0.408059  0.757937  1.252934   \n",
       "\n",
       "        Trial 13   Trial 11   Trial 10   Trial 12   Trial 14    Trial 6  \\\n",
       "Target  9.000000  10.000000  15.000000  20.000000  25.000000  30.000000   \n",
       "mean    9.744681  10.680851  16.425532  21.489362  25.170213  27.723404   \n",
       "sd      1.938938   2.117283   2.668208   4.960156   5.946571   8.072234   \n",
       "\n",
       "         Trial 8    Trial 3  \n",
       "Target  35.00000  40.000000  \n",
       "mean    31.12766  28.872340  \n",
       "sd       8.15773   8.641701  "
      ]
     },
     "execution_count": 27,
     "metadata": {},
     "output_type": "execute_result"
    }
   ],
   "source": [
    "# creating a dataframe\n",
    "mean_of_trail = [3.000000, 8.319149, 28.872340,1.978723, 5.085106, 27.723404,7.234043, 31.127660, 6.085106, \n",
    "                 16.425532, 10.680851,21.489362, 9.744681,  25.170213 ,4.000000 ]\n",
    "sd_of_trail = [sd]\n",
    "data_accuracy = [targets, mean_of_trail, sd]\n",
    "summary_df = pd.DataFrame(data_accuracy\n",
    "                           ,columns = ['Trial 1', 'Trial 2','Trial 3'\n",
    "                                       , 'Trial 4','Trial 5', 'Trial 6'\n",
    "                                       ,'Trial 7', 'Trial 8','Trial 9'\n",
    "                                       , 'Trial 10','Trial 11', 'Trial 12'\n",
    "                                       ,'Trial 13', 'Trial 14', 'Trial 15']\n",
    "                           ,index =['Target', 'mean','sd'])\n",
    "summary_df\n",
    "# organized by the values of targets\n",
    "summary_df = summary_df.sort_values(by ='Target', axis=1)\n",
    "summary_df.head()"
   ]
  },
  {
   "cell_type": "code",
   "execution_count": 28,
   "metadata": {},
   "outputs": [],
   "source": [
    "# extract vectors from this dataframe\n",
    "sd_sorted = summary_df.iloc[2]\n",
    "mean_sorted = summary_df.iloc[1]"
   ]
  },
  {
   "cell_type": "code",
   "execution_count": 29,
   "metadata": {},
   "outputs": [
    {
     "data": {
      "text/plain": [
       "array([ 2,  3,  4,  5,  6,  7,  8,  9, 10, 15, 20, 25, 30, 35, 40])"
      ]
     },
     "execution_count": 29,
     "metadata": {},
     "output_type": "execute_result"
    }
   ],
   "source": [
    "# sort targets\n",
    "targets = np.array([3, 8, 40, 2, 5, 30, 7, 35, 6, 15, 10, 20, 9, 25, 4]);\n",
    "targets.sort()\n",
    "targets"
   ]
  },
  {
   "cell_type": "code",
   "execution_count": 30,
   "metadata": {
    "scrolled": true
   },
   "outputs": [
    {
     "data": {
      "image/png": "[encoded data removed]",
      "text/plain": [
       "<Figure size 432x288 with 1 Axes>"
      ]
     },
     "metadata": {
      "needs_background": "light"
     },
     "output_type": "display_data"
    }
   ],
   "source": [
    "# Task 1.1\n",
    "\n",
    "\n",
    "##  line 1 points \n",
    "x1 = targets\n",
    "y1 = mean_sorted\n",
    "# plotting the line 1 points   \n",
    "plt.scatter(x1, y1, label= \"mean\", color= \"red\",  \n",
    "            marker= \"*\", s=30)\n",
    "\n",
    "# line 2 points \n",
    "x2 = targets \n",
    "y2 = targets \n",
    "# plotting the line 2 points  \n",
    "plt.plot(x2, y2, label = \"line 2\") \n",
    " \n",
    "# naming the x axis \n",
    "plt.xlabel('target value') \n",
    "# naming the y axis \n",
    "plt.ylabel('mean') \n",
    "# giving a title to my graph \n",
    "plt.title('mean and target value') \n",
    "  \n",
    "# show a legend on the plot \n",
    "plt.legend() \n",
    "  \n",
    "# function to show the plot \n",
    "plt.show() \n"
   ]
  },
  {
   "cell_type": "code",
   "execution_count": 31,
   "metadata": {},
   "outputs": [
    {
     "name": "stdout",
     "output_type": "stream",
     "text": [
      "1st Input array :  [ 1.978723  3.        4.        5.085106  6.085106  7.234043  8.319149\n",
      "  9.744681 10.680851 16.425532 21.489362 25.170213 27.723404 31.12766\n",
      " 28.87234 ]\n",
      "2nd Input array :  [0.14586499 0.         0.20851441 0.35076235 0.40805942 0.75793673\n",
      " 1.25293365 1.93893836 2.11728274 2.668208   4.96015577 5.94657062\n",
      " 8.07223402 8.15773045 8.64170127]\n",
      "output added array :  [ 2.12458799  3.          4.20851441  5.43586835  6.49316542  7.99197973\n",
      "  9.57208265 11.68361936 12.79813374 19.09374    26.44951777 31.11678362\n",
      " 35.79563802 39.28539045 37.51404127]\n"
     ]
    },
    {
     "data": {
      "image/png": "[encoded data removed]",
      "text/plain": [
       "<Figure size 432x288 with 1 Axes>"
      ]
     },
     "metadata": {
      "needs_background": "light"
     },
     "output_type": "display_data"
    }
   ],
   "source": [
    "\n",
    "# Task 1.2 Plot mean + sd and mean - sd\n",
    "\n",
    "in_arr1 = np.array(mean_sorted) \n",
    "in_arr2 = np.array(sd_sorted) \n",
    "   \n",
    "print (\"1st Input array : \", in_arr1)  \n",
    "print (\"2nd Input array : \", in_arr2)  \n",
    "    \n",
    "out_arr = np.add(in_arr1, in_arr2)  \n",
    "print (\"output added array : \", out_arr)  \n",
    "\n",
    "## plot \n",
    "x1 = targets\n",
    "y1 = out_arr\n",
    "# plotting the line 1 points   \n",
    "plt.scatter(x1, y1, label= \"mean + sd\", color= \"red\",  \n",
    "            marker= \"*\", s=30) \n",
    "\n",
    "# naming the x axis \n",
    "plt.xlabel('target value') \n",
    "# naming the y axis \n",
    "plt.ylabel('mean + sd') \n",
    "# giving a title to my graph \n",
    "plt.title('sum of mean and sd') \n",
    "  \n",
    "# show a legend on the plot \n",
    "plt.legend() \n",
    "  \n",
    "# function to show the plot \n",
    "plt.show() "
   ]
  },
  {
   "cell_type": "code",
   "execution_count": 32,
   "metadata": {},
   "outputs": [
    {
     "name": "stdout",
     "output_type": "stream",
     "text": [
      "1st Input array :  [ 1.978723  3.        4.        5.085106  6.085106  7.234043  8.319149\n",
      "  9.744681 10.680851 16.425532 21.489362 25.170213 27.723404 31.12766\n",
      " 28.87234 ]\n",
      "2nd Input array :  [0.14586499 0.         0.20851441 0.35076235 0.40805942 0.75793673\n",
      " 1.25293365 1.93893836 2.11728274 2.668208   4.96015577 5.94657062\n",
      " 8.07223402 8.15773045 8.64170127]\n",
      "output subtract array :  [ 1.83285801  3.          3.79148559  4.73434365  5.67704658  6.47610627\n",
      "  7.06621535  7.80574264  8.56356826 13.757324   16.52920623 19.22364238\n",
      " 19.65116998 22.96992955 20.23063873]\n"
     ]
    },
    {
     "data": {
      "image/png": "[encoded data removed]",
      "text/plain": [
       "<Figure size 432x288 with 1 Axes>"
      ]
     },
     "metadata": {
      "needs_background": "light"
     },
     "output_type": "display_data"
    }
   ],
   "source": [
    "# Task 1.2 plot mean - sd\n",
    "\n",
    "in_arr1 = np.array(mean_sorted) \n",
    "in_arr2 = np.array(sd_sorted) \n",
    "   \n",
    "print (\"1st Input array : \", in_arr1)  \n",
    "print (\"2nd Input array : \", in_arr2)  \n",
    "    \n",
    "out_arr = np.subtract(in_arr1, in_arr2)  \n",
    "print (\"output subtract array : \", out_arr)  \n",
    "\n",
    "## plot \n",
    "x1 = targets\n",
    "y1 = out_arr\n",
    "# plotting the line 1 points   \n",
    "plt.scatter(x1, y1, label= \"mean - sd\", color= \"blue\",  \n",
    "            marker= \"*\", s=30) \n",
    "\n",
    "# naming the x axis \n",
    "plt.xlabel('target value') \n",
    "# naming the y axis \n",
    "plt.ylabel('mean - sd') \n",
    "# giving a title to my graph \n",
    "plt.title('difference of mean and sd') \n",
    "  \n",
    "# show a legend on the plot \n",
    "plt.legend() \n",
    "  \n",
    "# function to show the plot \n",
    "plt.show() "
   ]
  },
  {
   "cell_type": "code",
   "execution_count": 33,
   "metadata": {},
   "outputs": [],
   "source": [
    "# Task 1.3\n",
    "# annotation and labels are included in previous graphs"
   ]
  },
  {
   "cell_type": "markdown",
   "metadata": {},
   "source": [
    "### Figure 2 [2pts]"
   ]
  },
  {
   "cell_type": "markdown",
   "metadata": {},
   "source": [
    "Divide $sd$ by $mean$ for each trial.\n",
    "\n",
    "**Hint**: Use `np.divide()`."
   ]
  },
  {
   "cell_type": "code",
   "execution_count": 34,
   "metadata": {},
   "outputs": [
    {
     "name": "stdout",
     "output_type": "stream",
     "text": [
      "sd/mean :  [0.07371673 0.         0.0521286  0.06897838 0.06705872 0.1047736\n",
      " 0.15060839 0.19897402 0.19823165 0.16244271 0.23081913 0.23625428\n",
      " 0.29117038 0.26207336 0.29930727]\n"
     ]
    }
   ],
   "source": [
    "\n",
    "in_arr1 = np.array(sd_sorted) \n",
    "in_arr2 = np.array(mean_sorted) \n",
    "   \n",
    "    \n",
    "divided = np.divide(in_arr1, in_arr2)  \n",
    "print (\"sd/mean : \", divided) "
   ]
  },
  {
   "cell_type": "markdown",
   "metadata": {},
   "source": [
    "Uncomment the following line to start a new figure."
   ]
  },
  {
   "cell_type": "markdown",
   "metadata": {},
   "source": [
    "Plot $\\frac{sd}{mean}$ ratios against the target numbers."
   ]
  },
  {
   "cell_type": "code",
   "execution_count": 35,
   "metadata": {},
   "outputs": [
    {
     "data": {
      "image/png": "[encoded data removed]",
      "text/plain": [
       "<Figure size 432x288 with 1 Axes>"
      ]
     },
     "metadata": {
      "needs_background": "light"
     },
     "output_type": "display_data"
    }
   ],
   "source": [
    "plt.figure()\n",
    "x1 = targets\n",
    "y1 = divided\n",
    "# plotting the line 1 points   \n",
    "plt.scatter(x1, y1, label= \"sd/mean\", color= \"blue\",  \n",
    "            marker= \"*\", s=30) \n",
    "\n",
    "# naming the x axis \n",
    "plt.xlabel('target value') \n",
    "# naming the y axis \n",
    "plt.ylabel('sd/mean') \n",
    "# giving a title to my graph \n",
    "plt.title('ratio of mean and sd') \n",
    "  \n",
    "# show a legend on the plot \n",
    "plt.legend() \n",
    "  \n",
    "# function to show the plot \n",
    "plt.show() "
   ]
  },
  {
   "cell_type": "markdown",
   "metadata": {},
   "source": [
    "Estimate Weber's fraction in two steps. 1) First choose an appropriate threshold target number (given the plot you've made above) and justify your choice. **[2pts]**"
   ]
  },
  {
   "cell_type": "code",
   "execution_count": 36,
   "metadata": {},
   "outputs": [],
   "source": [
    "thres = 8"
   ]
  },
  {
   "cell_type": "markdown",
   "metadata": {},
   "source": [
    "Justification: \n",
    "The threshold target number was chosen to be 8. The ratio of stadard deviation and mean increased significantly starting from 9 as the target value. Target values included 8 and below have relatively small error rate. Referenced from the mean v.s. target value graph "
   ]
  },
  {
   "cell_type": "markdown",
   "metadata": {},
   "source": [
    "2) Then calculate Weber fraction by averaging $\\frac{sd}{mean}$ ratios across trials that have targets greater than the threshold you've chosen. **[1pt]**\n",
    "\n",
    "**Hint**: Use `np.where()` and `np.mean()`."
   ]
  },
  {
   "cell_type": "code",
   "execution_count": 39,
   "metadata": {},
   "outputs": [
    {
     "name": "stdout",
     "output_type": "stream",
     "text": [
      "(array([7]),)\n"
     ]
    }
   ],
   "source": [
    "# find the index of target value = 9\n",
    "index = np.where(targets == 9)\n",
    "print (index) #7, this means that we have to select sd/mean ratio starting from index 7"
   ]
  },
  {
   "cell_type": "code",
   "execution_count": 40,
   "metadata": {},
   "outputs": [
    {
     "name": "stdout",
     "output_type": "stream",
     "text": [
      "Weber fraction :  0.23490910068496382\n"
     ]
    }
   ],
   "source": [
    "# sd/mean vector for target values above 9, from index 7 as \n",
    "divided_for_target_above8 = divided[7:]\n",
    "\n",
    "# calculate weber fraction \n",
    "wb = divided_for_target_above8.mean()\n",
    "print (\"Weber fraction : \", wb) "
   ]
  },
  {
   "cell_type": "markdown",
   "metadata": {
    "collapsed": true
   },
   "source": [
    "Export and submit a **fully executable** Python Jupyter Notebook along with a PDF export of your notebook showing all results you've obtained. Please follow the naming convention as suggested in Lab 1.**[2pts]**\n"
   ]
  },
  {
   "cell_type": "code",
   "execution_count": null,
   "metadata": {},
   "outputs": [],
   "source": []
  }
 ],
 "metadata": {
  "anaconda-cloud": {},
  "kernelspec": {
   "display_name": "Python 3",
   "language": "python",
   "name": "python3"
  },
  "language_info": {
   "codemirror_mode": {
    "name": "ipython",
    "version": 3
   },
   "file_extension": ".py",
   "mimetype": "text/x-python",
   "name": "python",
   "nbconvert_exporter": "python",
   "pygments_lexer": "ipython3",
   "version": "3.8.3"
  }
 },
 "nbformat": 4,
 "nbformat_minor": 1
}
